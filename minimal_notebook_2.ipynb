{
 "cells": [
 	{
 		"cell_type" : "markdown",
 		"metadata" : {},
 		"source": [
 			"multi-line\n",
 			"*markdown*"
 		]
 	}
 ],
 "metadata": {},
 "nbformat": 4,
 "nbformat_minor": 2
}
